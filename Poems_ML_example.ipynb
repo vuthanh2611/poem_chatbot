{
  "nbformat": 4,
  "nbformat_minor": 0,
  "metadata": {
    "colab": {
      "provenance": [],
      "toc_visible": true
    },
    "kernelspec": {
      "name": "python3",
      "display_name": "Python 3"
    },
    "language_info": {
      "name": "python"
    },
    "accelerator": "GPU",
    "gpuClass": "standard"
  },
  "cells": [
    {
      "cell_type": "code",
      "source": [
        "import tensorflow as tf\n",
        "device_name = tf.test.gpu_device_name()\n",
        "if device_name != '/device:GPU:0':\n",
        "  raise SystemError('GPU device not found')\n",
        "print('Found GPU at: {}'.format(device_name))"
      ],
      "metadata": {
        "colab": {
          "base_uri": "https://localhost:8080/"
        },
        "id": "S2-Ifc7G1WP5",
        "outputId": "a549b3dc-4ead-42bb-f415-91a68fbe8551"
      },
      "execution_count": null,
      "outputs": [
        {
          "output_type": "stream",
          "name": "stdout",
          "text": [
            "Found GPU at: /device:GPU:0\n"
          ]
        }
      ]
    },
    {
      "cell_type": "markdown",
      "source": [
        "# Import library and data"
      ],
      "metadata": {
        "id": "okKlxFTYQqXd"
      }
    },
    {
      "cell_type": "code",
      "source": [
        "\n",
        "import string\n",
        "import requests\n",
        "import pandas as pd"
      ],
      "metadata": {
        "id": "GepoqeH61aoY"
      },
      "execution_count": null,
      "outputs": []
    },
    {
      "cell_type": "code",
      "source": [
        "from google.colab import drive\n",
        "drive.mount('/content/drive')"
      ],
      "metadata": {
        "colab": {
          "base_uri": "https://localhost:8080/"
        },
        "id": "hzPi_emUV03W",
        "outputId": "e2f3e20e-a599-4990-b259-038990bb9225"
      },
      "execution_count": null,
      "outputs": [
        {
          "output_type": "stream",
          "name": "stdout",
          "text": [
            "Mounted at /content/drive\n"
          ]
        }
      ]
    },
    {
      "cell_type": "code",
      "source": [
        "!cp drive/MyDrive/HabourSpace/CapstoneProject/thetaleofkieu.txt ."
      ],
      "metadata": {
        "id": "OBuOjRpfWnwn"
      },
      "execution_count": null,
      "outputs": []
    },
    {
      "cell_type": "code",
      "source": [
        "ls"
      ],
      "metadata": {
        "colab": {
          "base_uri": "https://localhost:8080/"
        },
        "id": "KxZfc1RpyUnR",
        "outputId": "c4a59e82-7798-462e-f88f-745b114c329b"
      },
      "execution_count": null,
      "outputs": [
        {
          "output_type": "stream",
          "name": "stdout",
          "text": [
            "\u001b[0m\u001b[01;34mdrive\u001b[0m/  \u001b[01;34msample_data\u001b[0m/  thetaleofkieu.txt\n"
          ]
        }
      ]
    },
    {
      "cell_type": "code",
      "source": [
        "with open(\"thetaleofkieu.txt\", \"r\") as file:\n",
        "    data = file.read()"
      ],
      "metadata": {
        "id": "jxy2Q9F_VZwi"
      },
      "execution_count": null,
      "outputs": []
    },
    {
      "cell_type": "markdown",
      "source": [
        "# Preprocess the data"
      ],
      "metadata": {
        "id": "19SLdduaQ6UV"
      }
    },
    {
      "cell_type": "code",
      "source": [
        "data= data.replace(\"Advertisements\",\"\")\n",
        "data=data.replace(\"REPORT THIS AD\",\"\")"
      ],
      "metadata": {
        "id": "ZRuGYu8wyj_D"
      },
      "execution_count": null,
      "outputs": []
    },
    {
      "cell_type": "code",
      "source": [
        "clean_data=[]\n",
        "for line in data.splitlines():\n",
        "  if line !='':\n",
        "    clean_data.append(line)\n",
        "  \n"
      ],
      "metadata": {
        "id": "eHkNd3VSl-bY"
      },
      "execution_count": null,
      "outputs": []
    },
    {
      "cell_type": "code",
      "source": [
        "import re\n",
        "\n",
        "def remove_numbers(string):\n",
        "    return re.sub(r'\\d+', '', string)"
      ],
      "metadata": {
        "id": "5nOoUF3Wum1R"
      },
      "execution_count": null,
      "outputs": []
    },
    {
      "cell_type": "code",
      "source": [
        "clean_data=list(map(remove_numbers,clean_data))"
      ],
      "metadata": {
        "id": "ySEMFxjcnUxS"
      },
      "execution_count": null,
      "outputs": []
    },
    {
      "cell_type": "code",
      "source": [
        "for ind,line in enumerate(clean_data):\n",
        "  if line.split()[0]==\".\":\n",
        "    clean_data[ind]=\" \".join(line.split()[1:])"
      ],
      "metadata": {
        "id": "cay_f2w7vGvj"
      },
      "execution_count": null,
      "outputs": []
    },
    {
      "cell_type": "code",
      "source": [
        "len(clean_data)"
      ],
      "metadata": {
        "colab": {
          "base_uri": "https://localhost:8080/"
        },
        "id": "gUvcwSFyKWq6",
        "outputId": "1f387823-c9c0-4d2f-ebae-44ffb3ea483b"
      },
      "execution_count": null,
      "outputs": [
        {
          "output_type": "execute_result",
          "data": {
            "text/plain": [
              "3346"
            ]
          },
          "metadata": {},
          "execution_count": 12
        }
      ]
    },
    {
      "cell_type": "code",
      "source": [
        "clean_data[:5]"
      ],
      "metadata": {
        "id": "cTjj2719Rs_r",
        "outputId": "c4d45749-698b-4979-b1de-1814af76551e",
        "colab": {
          "base_uri": "https://localhost:8080/"
        }
      },
      "execution_count": null,
      "outputs": [
        {
          "output_type": "execute_result",
          "data": {
            "text/plain": [
              "['Destiny is envious of genius',\n",
              " 'Heaven is jealous with beauty',\n",
              " 'In the hundred-year span of a human life,',\n",
              " 'Talent and fate are always apt to strife.',\n",
              " 'Through experience of a harrowing change,']"
            ]
          },
          "metadata": {},
          "execution_count": 13
        }
      ]
    },
    {
      "cell_type": "code",
      "source": [
        "import numpy as np\n",
        "from tensorflow.keras.preprocessing.text import Tokenizer\n",
        "from tensorflow.keras.utils import to_categorical\n",
        "from tensorflow.keras.models import Sequential\n",
        "from tensorflow.keras.layers import Dense, LSTM, Embedding\n",
        "from tensorflow.keras.preprocessing.sequence import pad_sequences"
      ],
      "metadata": {
        "id": "_LfrH6Asxw9R"
      },
      "execution_count": null,
      "outputs": []
    },
    {
      "cell_type": "code",
      "source": [
        "token = Tokenizer()\n",
        "token.fit_on_texts(clean_data)"
      ],
      "metadata": {
        "id": "lUUA5Kf2uxX3"
      },
      "execution_count": null,
      "outputs": []
    },
    {
      "cell_type": "code",
      "source": [
        "file_path = \"drive/MyDrive/HabourSpace/CapstoneProject/clean.txt\"\n",
        "with open(file_path, \"w\") as f:\n",
        "    for line in clean_data:\n",
        "        f.write(line + \"\\n\")"
      ],
      "metadata": {
        "id": "pFJ_Q_1eUud_"
      },
      "execution_count": null,
      "outputs": []
    },
    {
      "cell_type": "code",
      "source": [
        "list(token.word_index.items())[:5]"
      ],
      "metadata": {
        "colab": {
          "base_uri": "https://localhost:8080/"
        },
        "id": "8Rk-iOIFx0np",
        "outputId": "5e16a40b-fdfe-4b25-8c4e-14fc2457bdfc"
      },
      "execution_count": null,
      "outputs": [
        {
          "output_type": "execute_result",
          "data": {
            "text/plain": [
              "[('the', 1), ('and', 2), ('of', 3), ('to', 4), ('a', 5)]"
            ]
          },
          "metadata": {},
          "execution_count": 17
        }
      ]
    },
    {
      "cell_type": "code",
      "source": [
        "encoded_text = token.texts_to_sequences(clean_data)\n",
        "# vocabulary size should be + 1\n",
        "vocab_size = len(token.word_counts) + 1\n",
        "datalist = []\n",
        "for d in encoded_text:\n",
        "  if len(d)>1:\n",
        "    for i in range(2, len(d)):\n",
        "      datalist.append(d[:i])\n",
        "      #print(d[:i])\n"
      ],
      "metadata": {
        "id": "zvwAIwvxx7vB"
      },
      "execution_count": null,
      "outputs": []
    },
    {
      "cell_type": "code",
      "source": [
        "datalist[:5]"
      ],
      "metadata": {
        "colab": {
          "base_uri": "https://localhost:8080/"
        },
        "id": "tPM_eBIA3oxi",
        "outputId": "925c87bc-6270-47b3-ec1b-06f13efa3896"
      },
      "execution_count": null,
      "outputs": [
        {
          "output_type": "execute_result",
          "data": {
            "text/plain": [
              "[[227, 22], [227, 22, 2324], [227, 22, 2324, 3], [92, 22], [92, 22, 560]]"
            ]
          },
          "metadata": {},
          "execution_count": 20
        }
      ]
    },
    {
      "cell_type": "code",
      "source": [
        "max_length = len(max(clean_data,key=len))\n",
        "sequences = pad_sequences(datalist, maxlen=max_length, padding='pre')\n",
        "X = sequences[:, :-1]\n",
        "y = sequences[:, -1]\n",
        "y = to_categorical(y, num_classes=vocab_size)\n",
        "seq_length = X.shape[1]"
      ],
      "metadata": {
        "id": "jaNhKntOyExL"
      },
      "execution_count": null,
      "outputs": []
    },
    {
      "cell_type": "code",
      "source": [
        "X.shape"
      ],
      "metadata": {
        "colab": {
          "base_uri": "https://localhost:8080/"
        },
        "id": "L3YWz1wT36xn",
        "outputId": "c671667d-3f0f-41cf-f69a-add2ca654a2f"
      },
      "execution_count": null,
      "outputs": [
        {
          "output_type": "execute_result",
          "data": {
            "text/plain": [
              "(20888, 60)"
            ]
          },
          "metadata": {},
          "execution_count": 25
        }
      ]
    },
    {
      "cell_type": "code",
      "source": [
        "print(X.shape,y.shape)"
      ],
      "metadata": {
        "colab": {
          "base_uri": "https://localhost:8080/"
        },
        "id": "7iupQzWo4JIi",
        "outputId": "553512e9-0661-4cff-c9fc-27fa451fd67c"
      },
      "execution_count": null,
      "outputs": [
        {
          "output_type": "stream",
          "name": "stdout",
          "text": [
            "(20888, 60) (20888, 4949)\n"
          ]
        }
      ]
    },
    {
      "cell_type": "code",
      "source": [
        "print(vocab_size,seq_length)"
      ],
      "metadata": {
        "colab": {
          "base_uri": "https://localhost:8080/"
        },
        "id": "JlZLiyVGT_YJ",
        "outputId": "25e936e0-c165-46ab-a4e3-fb0bc31b2dd1"
      },
      "execution_count": null,
      "outputs": [
        {
          "output_type": "stream",
          "name": "stdout",
          "text": [
            "4949 60\n"
          ]
        }
      ]
    },
    {
      "cell_type": "markdown",
      "source": [
        "# Building the model"
      ],
      "metadata": {
        "id": "_Urw6M_pRCbx"
      }
    },
    {
      "cell_type": "code",
      "source": [
        "#from sklearn.model_selection import train_test_split\n",
        "#X_train, X_test, y_train, y_test = train_test_split( X, y, test_size=0.2, random_state=42)"
      ],
      "metadata": {
        "id": "6DQT0cROB-q0"
      },
      "execution_count": null,
      "outputs": []
    },
    {
      "cell_type": "code",
      "source": [
        "from keras.layers import Bidirectional\n",
        "from keras.layers import Dropout\n",
        "from keras import regularizers"
      ],
      "metadata": {
        "id": "ZOQIJafUODq3"
      },
      "execution_count": null,
      "outputs": []
    },
    {
      "cell_type": "code",
      "source": [
        "model = Sequential()\n",
        "model.add(Embedding(vocab_size, 100, input_length=seq_length))\n",
        "model.add(Bidirectional(LSTM(150, return_sequences = True)))\n",
        "model.add(Dropout(0.2))\n",
        "model.add(LSTM(100))\n",
        "model.add(Dense(vocab_size/2, activation='relu', kernel_regularizer=regularizers.l2(0.01)))\n",
        "model.add(Dense(vocab_size, activation='softmax'))\n",
        "model.compile(loss='categorical_crossentropy', optimizer='adam', metrics=['accuracy'])\n",
        "print(model.summary())\n"
      ],
      "metadata": {
        "colab": {
          "base_uri": "https://localhost:8080/"
        },
        "id": "gFTnXMOONMEA",
        "outputId": "f78d1a13-e999-4db7-94e9-2acb30e8b972"
      },
      "execution_count": null,
      "outputs": [
        {
          "output_type": "stream",
          "name": "stdout",
          "text": [
            "Model: \"sequential\"\n",
            "_________________________________________________________________\n",
            " Layer (type)                Output Shape              Param #   \n",
            "=================================================================\n",
            " embedding (Embedding)       (None, 60, 100)           494900    \n",
            "                                                                 \n",
            " bidirectional (Bidirectiona  (None, 60, 300)          301200    \n",
            " l)                                                              \n",
            "                                                                 \n",
            " dropout (Dropout)           (None, 60, 300)           0         \n",
            "                                                                 \n",
            " lstm_1 (LSTM)               (None, 100)               160400    \n",
            "                                                                 \n",
            " dense (Dense)               (None, 2474)              249874    \n",
            "                                                                 \n",
            " dense_1 (Dense)             (None, 4949)              12248775  \n",
            "                                                                 \n",
            "=================================================================\n",
            "Total params: 13,455,149\n",
            "Trainable params: 13,455,149\n",
            "Non-trainable params: 0\n",
            "_________________________________________________________________\n",
            "None\n"
          ]
        }
      ]
    },
    {
      "cell_type": "code",
      "source": [
        "history=model.fit(X, y, batch_size=32, epochs=200)"
      ],
      "metadata": {
        "colab": {
          "base_uri": "https://localhost:8080/"
        },
        "id": "065L0P5sNisr",
        "outputId": "51ba6af5-4c3d-4c42-e1e7-8fbd5faf8bf1"
      },
      "execution_count": null,
      "outputs": [
        {
          "output_type": "stream",
          "name": "stdout",
          "text": [
            "Epoch 1/200\n",
            "653/653 [==============================] - 21s 19ms/step - loss: 6.8639 - accuracy: 0.0496\n",
            "Epoch 2/200\n",
            "653/653 [==============================] - 17s 26ms/step - loss: 6.4197 - accuracy: 0.0523\n",
            "Epoch 3/200\n",
            "653/653 [==============================] - 15s 23ms/step - loss: 6.2548 - accuracy: 0.0609\n",
            "Epoch 4/200\n",
            "653/653 [==============================] - 17s 26ms/step - loss: 6.1355 - accuracy: 0.0694\n",
            "Epoch 5/200\n",
            "653/653 [==============================] - 13s 20ms/step - loss: 6.0375 - accuracy: 0.0755\n",
            "Epoch 6/200\n",
            "653/653 [==============================] - 13s 20ms/step - loss: 5.9452 - accuracy: 0.0817\n",
            "Epoch 7/200\n",
            "653/653 [==============================] - 13s 19ms/step - loss: 5.8561 - accuracy: 0.0885\n",
            "Epoch 8/200\n",
            "653/653 [==============================] - 14s 21ms/step - loss: 5.7719 - accuracy: 0.0940\n",
            "Epoch 9/200\n",
            "653/653 [==============================] - 14s 21ms/step - loss: 5.6826 - accuracy: 0.0986\n",
            "Epoch 10/200\n",
            "653/653 [==============================] - 13s 19ms/step - loss: 5.6000 - accuracy: 0.1042\n",
            "Epoch 11/200\n",
            "653/653 [==============================] - 13s 20ms/step - loss: 5.5277 - accuracy: 0.1116\n",
            "Epoch 12/200\n",
            "653/653 [==============================] - 14s 22ms/step - loss: 5.4548 - accuracy: 0.1164\n",
            "Epoch 13/200\n",
            "653/653 [==============================] - 13s 20ms/step - loss: 5.3864 - accuracy: 0.1236\n",
            "Epoch 14/200\n",
            "653/653 [==============================] - 13s 20ms/step - loss: 5.3192 - accuracy: 0.1296\n",
            "Epoch 15/200\n",
            "653/653 [==============================] - 13s 20ms/step - loss: 5.2478 - accuracy: 0.1343\n",
            "Epoch 16/200\n",
            "653/653 [==============================] - 13s 20ms/step - loss: 5.1747 - accuracy: 0.1401\n",
            "Epoch 17/200\n",
            "653/653 [==============================] - 13s 20ms/step - loss: 5.1025 - accuracy: 0.1449\n",
            "Epoch 18/200\n",
            "653/653 [==============================] - 13s 20ms/step - loss: 5.0325 - accuracy: 0.1498\n",
            "Epoch 19/200\n",
            "653/653 [==============================] - 12s 19ms/step - loss: 4.9571 - accuracy: 0.1563\n",
            "Epoch 20/200\n",
            "653/653 [==============================] - 13s 19ms/step - loss: 4.8816 - accuracy: 0.1609\n",
            "Epoch 21/200\n",
            "653/653 [==============================] - 13s 20ms/step - loss: 4.8876 - accuracy: 0.1609\n",
            "Epoch 22/200\n",
            "653/653 [==============================] - 13s 20ms/step - loss: 4.7568 - accuracy: 0.1678\n",
            "Epoch 23/200\n",
            "653/653 [==============================] - 13s 20ms/step - loss: 4.6849 - accuracy: 0.1746\n",
            "Epoch 24/200\n",
            "653/653 [==============================] - 13s 20ms/step - loss: 4.6227 - accuracy: 0.1790\n",
            "Epoch 25/200\n",
            "653/653 [==============================] - 15s 23ms/step - loss: 4.5558 - accuracy: 0.1838\n",
            "Epoch 26/200\n",
            "653/653 [==============================] - 13s 20ms/step - loss: 4.4895 - accuracy: 0.1887\n",
            "Epoch 27/200\n",
            "653/653 [==============================] - 13s 20ms/step - loss: 4.4243 - accuracy: 0.1970\n",
            "Epoch 28/200\n",
            "653/653 [==============================] - 13s 20ms/step - loss: 4.3618 - accuracy: 0.2031\n",
            "Epoch 29/200\n",
            "653/653 [==============================] - 14s 21ms/step - loss: 4.2992 - accuracy: 0.2081\n",
            "Epoch 30/200\n",
            "653/653 [==============================] - 12s 19ms/step - loss: 4.2355 - accuracy: 0.2154\n",
            "Epoch 31/200\n",
            "653/653 [==============================] - 15s 22ms/step - loss: 4.1718 - accuracy: 0.2240\n",
            "Epoch 32/200\n",
            "653/653 [==============================] - 13s 20ms/step - loss: 4.1083 - accuracy: 0.2310\n",
            "Epoch 33/200\n",
            "653/653 [==============================] - 13s 20ms/step - loss: 4.0493 - accuracy: 0.2386\n",
            "Epoch 34/200\n",
            "653/653 [==============================] - 13s 20ms/step - loss: 3.9936 - accuracy: 0.2466\n",
            "Epoch 35/200\n",
            "653/653 [==============================] - 13s 20ms/step - loss: 3.9342 - accuracy: 0.2546\n",
            "Epoch 36/200\n",
            "653/653 [==============================] - 13s 20ms/step - loss: 3.8733 - accuracy: 0.2617\n",
            "Epoch 37/200\n",
            "653/653 [==============================] - 13s 20ms/step - loss: 3.8229 - accuracy: 0.2691\n",
            "Epoch 38/200\n",
            "653/653 [==============================] - 13s 20ms/step - loss: 3.7653 - accuracy: 0.2777\n",
            "Epoch 39/200\n",
            "653/653 [==============================] - 12s 19ms/step - loss: 3.7099 - accuracy: 0.2854\n",
            "Epoch 40/200\n",
            "653/653 [==============================] - 12s 19ms/step - loss: 3.6517 - accuracy: 0.2951\n",
            "Epoch 41/200\n",
            "653/653 [==============================] - 13s 20ms/step - loss: 3.6013 - accuracy: 0.3029\n",
            "Epoch 42/200\n",
            "653/653 [==============================] - 13s 20ms/step - loss: 3.5566 - accuracy: 0.3092\n",
            "Epoch 43/200\n",
            "653/653 [==============================] - 13s 20ms/step - loss: 3.5125 - accuracy: 0.3196\n",
            "Epoch 44/200\n",
            "653/653 [==============================] - 13s 20ms/step - loss: 3.4614 - accuracy: 0.3258\n",
            "Epoch 45/200\n",
            "653/653 [==============================] - 13s 20ms/step - loss: 3.4143 - accuracy: 0.3360\n",
            "Epoch 46/200\n",
            "653/653 [==============================] - 13s 21ms/step - loss: 3.3657 - accuracy: 0.3437\n",
            "Epoch 47/200\n",
            "653/653 [==============================] - 13s 20ms/step - loss: 3.3266 - accuracy: 0.3514\n",
            "Epoch 48/200\n",
            "653/653 [==============================] - 13s 20ms/step - loss: 3.2796 - accuracy: 0.3601\n",
            "Epoch 49/200\n",
            "653/653 [==============================] - 14s 22ms/step - loss: 3.2466 - accuracy: 0.3649\n",
            "Epoch 50/200\n",
            "653/653 [==============================] - 13s 20ms/step - loss: 3.1988 - accuracy: 0.3721\n",
            "Epoch 51/200\n",
            "653/653 [==============================] - 13s 19ms/step - loss: 3.1518 - accuracy: 0.3825\n",
            "Epoch 52/200\n",
            "653/653 [==============================] - 13s 19ms/step - loss: 3.1141 - accuracy: 0.3893\n",
            "Epoch 53/200\n",
            "653/653 [==============================] - 13s 20ms/step - loss: 3.0805 - accuracy: 0.3956\n",
            "Epoch 54/200\n",
            "653/653 [==============================] - 13s 20ms/step - loss: 3.0357 - accuracy: 0.4051\n",
            "Epoch 55/200\n",
            "653/653 [==============================] - 13s 20ms/step - loss: 3.0043 - accuracy: 0.4113\n",
            "Epoch 56/200\n",
            "653/653 [==============================] - 13s 20ms/step - loss: 2.9650 - accuracy: 0.4207\n",
            "Epoch 57/200\n",
            "653/653 [==============================] - 13s 20ms/step - loss: 2.9196 - accuracy: 0.4319\n",
            "Epoch 58/200\n",
            "653/653 [==============================] - 13s 20ms/step - loss: 2.9008 - accuracy: 0.4331\n",
            "Epoch 59/200\n",
            "653/653 [==============================] - 13s 20ms/step - loss: 2.8545 - accuracy: 0.4424\n",
            "Epoch 60/200\n",
            "653/653 [==============================] - 12s 19ms/step - loss: 2.8233 - accuracy: 0.4462\n",
            "Epoch 61/200\n",
            "653/653 [==============================] - 12s 19ms/step - loss: 2.7925 - accuracy: 0.4544\n",
            "Epoch 62/200\n",
            "653/653 [==============================] - 13s 20ms/step - loss: 2.7576 - accuracy: 0.4622\n",
            "Epoch 63/200\n",
            "653/653 [==============================] - 13s 20ms/step - loss: 2.7307 - accuracy: 0.4662\n",
            "Epoch 64/200\n",
            "653/653 [==============================] - 13s 20ms/step - loss: 2.6962 - accuracy: 0.4736\n",
            "Epoch 65/200\n",
            "653/653 [==============================] - 13s 20ms/step - loss: 2.6670 - accuracy: 0.4814\n",
            "Epoch 66/200\n",
            "653/653 [==============================] - 13s 20ms/step - loss: 2.6370 - accuracy: 0.4863\n",
            "Epoch 67/200\n",
            "653/653 [==============================] - 14s 21ms/step - loss: 2.6086 - accuracy: 0.4920\n",
            "Epoch 68/200\n",
            "653/653 [==============================] - 13s 20ms/step - loss: 2.5743 - accuracy: 0.4974\n",
            "Epoch 69/200\n",
            "653/653 [==============================] - 13s 19ms/step - loss: 2.5470 - accuracy: 0.5058\n",
            "Epoch 70/200\n",
            "653/653 [==============================] - 12s 19ms/step - loss: 2.5217 - accuracy: 0.5098\n",
            "Epoch 71/200\n",
            "653/653 [==============================] - 13s 20ms/step - loss: 2.4925 - accuracy: 0.5149\n",
            "Epoch 72/200\n",
            "653/653 [==============================] - 13s 20ms/step - loss: 2.4631 - accuracy: 0.5216\n",
            "Epoch 73/200\n",
            "653/653 [==============================] - 13s 20ms/step - loss: 2.4474 - accuracy: 0.5266\n",
            "Epoch 74/200\n",
            "653/653 [==============================] - 13s 20ms/step - loss: 2.4112 - accuracy: 0.5327\n",
            "Epoch 75/200\n",
            "653/653 [==============================] - 13s 20ms/step - loss: 2.3904 - accuracy: 0.5368\n",
            "Epoch 76/200\n",
            "653/653 [==============================] - 13s 20ms/step - loss: 2.3661 - accuracy: 0.5398\n",
            "Epoch 77/200\n",
            "653/653 [==============================] - 13s 20ms/step - loss: 2.3379 - accuracy: 0.5451\n",
            "Epoch 78/200\n",
            "653/653 [==============================] - 12s 19ms/step - loss: 2.3201 - accuracy: 0.5525\n",
            "Epoch 79/200\n",
            "653/653 [==============================] - 12s 19ms/step - loss: 2.3021 - accuracy: 0.5545\n",
            "Epoch 80/200\n",
            "653/653 [==============================] - 13s 20ms/step - loss: 2.2746 - accuracy: 0.5618\n",
            "Epoch 81/200\n",
            "653/653 [==============================] - 13s 20ms/step - loss: 2.2504 - accuracy: 0.5694\n",
            "Epoch 82/200\n",
            "653/653 [==============================] - 13s 20ms/step - loss: 2.2421 - accuracy: 0.5641\n",
            "Epoch 83/200\n",
            "653/653 [==============================] - 13s 20ms/step - loss: 2.2111 - accuracy: 0.5745\n",
            "Epoch 84/200\n",
            "653/653 [==============================] - 13s 20ms/step - loss: 2.1885 - accuracy: 0.5771\n",
            "Epoch 85/200\n",
            "653/653 [==============================] - 13s 20ms/step - loss: 2.1669 - accuracy: 0.5847\n",
            "Epoch 86/200\n",
            "653/653 [==============================] - 14s 22ms/step - loss: 2.1375 - accuracy: 0.5885\n",
            "Epoch 87/200\n",
            "653/653 [==============================] - 13s 20ms/step - loss: 2.1439 - accuracy: 0.5846\n",
            "Epoch 88/200\n",
            "653/653 [==============================] - 13s 20ms/step - loss: 2.1095 - accuracy: 0.5938\n",
            "Epoch 89/200\n",
            "653/653 [==============================] - 12s 19ms/step - loss: 2.0934 - accuracy: 0.5989\n",
            "Epoch 90/200\n",
            "653/653 [==============================] - 12s 19ms/step - loss: 2.0750 - accuracy: 0.5992\n",
            "Epoch 91/200\n",
            "653/653 [==============================] - 13s 20ms/step - loss: 2.0565 - accuracy: 0.6062\n",
            "Epoch 92/200\n",
            "653/653 [==============================] - 13s 20ms/step - loss: 2.0315 - accuracy: 0.6089\n",
            "Epoch 93/200\n",
            "653/653 [==============================] - 13s 20ms/step - loss: 2.0213 - accuracy: 0.6110\n",
            "Epoch 94/200\n",
            "653/653 [==============================] - 13s 20ms/step - loss: 2.0064 - accuracy: 0.6139\n",
            "Epoch 95/200\n",
            "653/653 [==============================] - 13s 20ms/step - loss: 1.9902 - accuracy: 0.6179\n",
            "Epoch 96/200\n",
            "653/653 [==============================] - 13s 20ms/step - loss: 1.9667 - accuracy: 0.6241\n",
            "Epoch 97/200\n",
            "653/653 [==============================] - 13s 20ms/step - loss: 1.9532 - accuracy: 0.6267\n",
            "Epoch 98/200\n",
            "653/653 [==============================] - 12s 19ms/step - loss: 1.9476 - accuracy: 0.6242\n",
            "Epoch 99/200\n",
            "653/653 [==============================] - 12s 19ms/step - loss: 1.9298 - accuracy: 0.6350\n",
            "Epoch 100/200\n",
            "653/653 [==============================] - 13s 19ms/step - loss: 1.9096 - accuracy: 0.6339\n",
            "Epoch 101/200\n",
            "653/653 [==============================] - 13s 20ms/step - loss: 1.8971 - accuracy: 0.6381\n",
            "Epoch 102/200\n",
            "653/653 [==============================] - 13s 20ms/step - loss: 1.8751 - accuracy: 0.6421\n",
            "Epoch 103/200\n",
            "653/653 [==============================] - 13s 20ms/step - loss: 1.8583 - accuracy: 0.6466\n",
            "Epoch 104/200\n",
            "653/653 [==============================] - 14s 21ms/step - loss: 1.8464 - accuracy: 0.6467\n",
            "Epoch 105/200\n",
            "653/653 [==============================] - 13s 20ms/step - loss: 1.8355 - accuracy: 0.6514\n",
            "Epoch 106/200\n",
            "653/653 [==============================] - 13s 20ms/step - loss: 1.8179 - accuracy: 0.6543\n",
            "Epoch 107/200\n",
            "653/653 [==============================] - 13s 20ms/step - loss: 1.8066 - accuracy: 0.6582\n",
            "Epoch 108/200\n",
            "653/653 [==============================] - 12s 19ms/step - loss: 1.7935 - accuracy: 0.6613\n",
            "Epoch 109/200\n",
            "653/653 [==============================] - 12s 19ms/step - loss: 1.7759 - accuracy: 0.6614\n",
            "Epoch 110/200\n",
            "653/653 [==============================] - 13s 20ms/step - loss: 1.7776 - accuracy: 0.6615\n",
            "Epoch 111/200\n",
            "653/653 [==============================] - 13s 20ms/step - loss: 1.7626 - accuracy: 0.6630\n",
            "Epoch 112/200\n",
            "653/653 [==============================] - 13s 20ms/step - loss: 1.7551 - accuracy: 0.6674\n",
            "Epoch 113/200\n",
            "653/653 [==============================] - 13s 19ms/step - loss: 1.7313 - accuracy: 0.6736\n",
            "Epoch 114/200\n",
            "653/653 [==============================] - 13s 20ms/step - loss: 1.7215 - accuracy: 0.6732\n",
            "Epoch 115/200\n",
            "653/653 [==============================] - 13s 20ms/step - loss: 1.7053 - accuracy: 0.6768\n",
            "Epoch 116/200\n",
            "653/653 [==============================] - 12s 19ms/step - loss: 1.6933 - accuracy: 0.6793\n",
            "Epoch 117/200\n",
            "653/653 [==============================] - 12s 19ms/step - loss: 1.6945 - accuracy: 0.6776\n",
            "Epoch 118/200\n",
            "653/653 [==============================] - 13s 19ms/step - loss: 1.6673 - accuracy: 0.6824\n",
            "Epoch 119/200\n",
            "653/653 [==============================] - 13s 20ms/step - loss: 1.6666 - accuracy: 0.6857\n",
            "Epoch 120/200\n",
            "653/653 [==============================] - 13s 20ms/step - loss: 1.6557 - accuracy: 0.6862\n",
            "Epoch 121/200\n",
            "653/653 [==============================] - 13s 20ms/step - loss: 1.6432 - accuracy: 0.6888\n",
            "Epoch 122/200\n",
            "653/653 [==============================] - 13s 20ms/step - loss: 1.6295 - accuracy: 0.6920\n",
            "Epoch 123/200\n",
            "653/653 [==============================] - 15s 22ms/step - loss: 1.6166 - accuracy: 0.6943\n",
            "Epoch 124/200\n",
            "653/653 [==============================] - 12s 19ms/step - loss: 1.6180 - accuracy: 0.6925\n",
            "Epoch 125/200\n",
            "653/653 [==============================] - 13s 19ms/step - loss: 1.5977 - accuracy: 0.6964\n",
            "Epoch 126/200\n",
            "653/653 [==============================] - 13s 19ms/step - loss: 1.5958 - accuracy: 0.6969\n",
            "Epoch 127/200\n",
            "653/653 [==============================] - 13s 20ms/step - loss: 1.5877 - accuracy: 0.7021\n",
            "Epoch 128/200\n",
            "653/653 [==============================] - 13s 20ms/step - loss: 1.5810 - accuracy: 0.7014\n",
            "Epoch 129/200\n",
            "653/653 [==============================] - 13s 20ms/step - loss: 1.5604 - accuracy: 0.7040\n",
            "Epoch 130/200\n",
            "653/653 [==============================] - 13s 20ms/step - loss: 1.5643 - accuracy: 0.7006\n",
            "Epoch 131/200\n",
            "653/653 [==============================] - 13s 20ms/step - loss: 1.5527 - accuracy: 0.7044\n",
            "Epoch 132/200\n",
            "653/653 [==============================] - 13s 20ms/step - loss: 1.5475 - accuracy: 0.7055\n",
            "Epoch 133/200\n",
            "653/653 [==============================] - 13s 19ms/step - loss: 1.5222 - accuracy: 0.7092\n",
            "Epoch 134/200\n",
            "653/653 [==============================] - 13s 19ms/step - loss: 1.5225 - accuracy: 0.7094\n",
            "Epoch 135/200\n",
            "653/653 [==============================] - 13s 19ms/step - loss: 1.5114 - accuracy: 0.7144\n",
            "Epoch 136/200\n",
            "653/653 [==============================] - 13s 20ms/step - loss: 1.5094 - accuracy: 0.7122\n",
            "Epoch 137/200\n",
            "653/653 [==============================] - 13s 20ms/step - loss: 1.5139 - accuracy: 0.7127\n",
            "Epoch 138/200\n",
            "653/653 [==============================] - 13s 20ms/step - loss: 1.4980 - accuracy: 0.7159\n",
            "Epoch 139/200\n",
            "653/653 [==============================] - 13s 20ms/step - loss: 1.4829 - accuracy: 0.7190\n",
            "Epoch 140/200\n",
            "653/653 [==============================] - 13s 20ms/step - loss: 1.4739 - accuracy: 0.7232\n",
            "Epoch 141/200\n",
            "653/653 [==============================] - 14s 21ms/step - loss: 1.4731 - accuracy: 0.7184\n",
            "Epoch 142/200\n",
            "653/653 [==============================] - 13s 21ms/step - loss: 1.4686 - accuracy: 0.7201\n",
            "Epoch 143/200\n",
            "653/653 [==============================] - 13s 20ms/step - loss: 1.4503 - accuracy: 0.7250\n",
            "Epoch 144/200\n",
            "653/653 [==============================] - 12s 19ms/step - loss: 1.4495 - accuracy: 0.7238\n",
            "Epoch 145/200\n",
            "653/653 [==============================] - 13s 20ms/step - loss: 1.4368 - accuracy: 0.7280\n",
            "Epoch 146/200\n",
            "653/653 [==============================] - 13s 20ms/step - loss: 1.4240 - accuracy: 0.7299\n",
            "Epoch 147/200\n",
            "653/653 [==============================] - 13s 20ms/step - loss: 1.4289 - accuracy: 0.7309\n",
            "Epoch 148/200\n",
            "653/653 [==============================] - 13s 20ms/step - loss: 1.4234 - accuracy: 0.7288\n",
            "Epoch 149/200\n",
            "653/653 [==============================] - 13s 20ms/step - loss: 1.4051 - accuracy: 0.7355\n",
            "Epoch 150/200\n",
            "653/653 [==============================] - 13s 20ms/step - loss: 1.4057 - accuracy: 0.7324\n",
            "Epoch 151/200\n",
            "653/653 [==============================] - 13s 20ms/step - loss: 1.3953 - accuracy: 0.7357\n",
            "Epoch 152/200\n",
            "653/653 [==============================] - 13s 19ms/step - loss: 1.3988 - accuracy: 0.7334\n",
            "Epoch 153/200\n",
            "653/653 [==============================] - 13s 19ms/step - loss: 1.3792 - accuracy: 0.7385\n",
            "Epoch 154/200\n",
            "653/653 [==============================] - 13s 19ms/step - loss: 1.3732 - accuracy: 0.7385\n",
            "Epoch 155/200\n",
            "653/653 [==============================] - 13s 20ms/step - loss: 1.3656 - accuracy: 0.7407\n",
            "Epoch 156/200\n",
            "653/653 [==============================] - 13s 20ms/step - loss: 1.3520 - accuracy: 0.7434\n",
            "Epoch 157/200\n",
            "653/653 [==============================] - 13s 20ms/step - loss: 1.3631 - accuracy: 0.7422\n",
            "Epoch 158/200\n",
            "653/653 [==============================] - 13s 20ms/step - loss: 1.3615 - accuracy: 0.7393\n",
            "Epoch 159/200\n",
            "653/653 [==============================] - 14s 21ms/step - loss: 1.3516 - accuracy: 0.7434\n",
            "Epoch 160/200\n",
            "653/653 [==============================] - 14s 21ms/step - loss: 1.3414 - accuracy: 0.7461\n",
            "Epoch 161/200\n",
            "653/653 [==============================] - 13s 20ms/step - loss: 1.3347 - accuracy: 0.7459\n",
            "Epoch 162/200\n",
            "653/653 [==============================] - 13s 20ms/step - loss: 1.3210 - accuracy: 0.7488\n",
            "Epoch 163/200\n",
            "653/653 [==============================] - 13s 19ms/step - loss: 1.3235 - accuracy: 0.7496\n",
            "Epoch 164/200\n",
            "653/653 [==============================] - 13s 19ms/step - loss: 1.3289 - accuracy: 0.7456\n",
            "Epoch 165/200\n",
            "653/653 [==============================] - 13s 20ms/step - loss: 1.3109 - accuracy: 0.7510\n",
            "Epoch 166/200\n",
            "653/653 [==============================] - 13s 20ms/step - loss: 1.3028 - accuracy: 0.7554\n",
            "Epoch 167/200\n",
            "653/653 [==============================] - 13s 20ms/step - loss: 1.3095 - accuracy: 0.7508\n",
            "Epoch 168/200\n",
            "653/653 [==============================] - 13s 20ms/step - loss: 1.3088 - accuracy: 0.7489\n",
            "Epoch 169/200\n",
            "653/653 [==============================] - 13s 20ms/step - loss: 1.2933 - accuracy: 0.7540\n",
            "Epoch 170/200\n",
            "653/653 [==============================] - 13s 20ms/step - loss: 1.2921 - accuracy: 0.7521\n",
            "Epoch 171/200\n",
            "653/653 [==============================] - 13s 20ms/step - loss: 1.2883 - accuracy: 0.7524\n",
            "Epoch 172/200\n",
            "653/653 [==============================] - 12s 19ms/step - loss: 1.2753 - accuracy: 0.7552\n",
            "Epoch 173/200\n",
            "653/653 [==============================] - 12s 19ms/step - loss: 1.2749 - accuracy: 0.7584\n",
            "Epoch 174/200\n",
            "653/653 [==============================] - 13s 20ms/step - loss: 1.2853 - accuracy: 0.7545\n",
            "Epoch 175/200\n",
            "653/653 [==============================] - 13s 20ms/step - loss: 1.2784 - accuracy: 0.7528\n",
            "Epoch 176/200\n",
            "653/653 [==============================] - 13s 20ms/step - loss: 1.2628 - accuracy: 0.7590\n",
            "Epoch 177/200\n",
            "653/653 [==============================] - 13s 20ms/step - loss: 1.2615 - accuracy: 0.7572\n",
            "Epoch 178/200\n",
            "653/653 [==============================] - 14s 22ms/step - loss: 1.2566 - accuracy: 0.7585\n",
            "Epoch 179/200\n",
            "653/653 [==============================] - 13s 20ms/step - loss: 1.2493 - accuracy: 0.7614\n",
            "Epoch 180/200\n",
            "653/653 [==============================] - 13s 19ms/step - loss: 1.2395 - accuracy: 0.7632\n",
            "Epoch 181/200\n",
            "653/653 [==============================] - 13s 19ms/step - loss: 1.2380 - accuracy: 0.7631\n",
            "Epoch 182/200\n",
            "653/653 [==============================] - 13s 19ms/step - loss: 1.2335 - accuracy: 0.7654\n",
            "Epoch 183/200\n",
            "653/653 [==============================] - 13s 20ms/step - loss: 1.2282 - accuracy: 0.7616\n",
            "Epoch 184/200\n",
            "653/653 [==============================] - 13s 20ms/step - loss: 1.2256 - accuracy: 0.7675\n",
            "Epoch 185/200\n",
            "653/653 [==============================] - 13s 20ms/step - loss: 1.2200 - accuracy: 0.7671\n",
            "Epoch 186/200\n",
            "653/653 [==============================] - 13s 20ms/step - loss: 1.2191 - accuracy: 0.7649\n",
            "Epoch 187/200\n",
            "653/653 [==============================] - 13s 20ms/step - loss: 1.2090 - accuracy: 0.7691\n",
            "Epoch 188/200\n",
            "653/653 [==============================] - 13s 20ms/step - loss: 1.2072 - accuracy: 0.7675\n",
            "Epoch 189/200\n",
            "653/653 [==============================] - 13s 20ms/step - loss: 1.2072 - accuracy: 0.7675\n",
            "Epoch 190/200\n",
            "653/653 [==============================] - 13s 20ms/step - loss: 1.1960 - accuracy: 0.7710\n",
            "Epoch 191/200\n",
            "653/653 [==============================] - 13s 19ms/step - loss: 1.2112 - accuracy: 0.7673\n",
            "Epoch 192/200\n",
            "653/653 [==============================] - 13s 20ms/step - loss: 1.1933 - accuracy: 0.7696\n",
            "Epoch 193/200\n",
            "653/653 [==============================] - 13s 20ms/step - loss: 1.1883 - accuracy: 0.7735\n",
            "Epoch 194/200\n",
            "653/653 [==============================] - 13s 20ms/step - loss: 1.1837 - accuracy: 0.7715\n",
            "Epoch 195/200\n",
            "653/653 [==============================] - 13s 20ms/step - loss: 1.1779 - accuracy: 0.7727\n",
            "Epoch 196/200\n",
            "653/653 [==============================] - 14s 22ms/step - loss: 1.1753 - accuracy: 0.7743\n",
            "Epoch 197/200\n",
            "653/653 [==============================] - 13s 20ms/step - loss: 1.1725 - accuracy: 0.7742\n",
            "Epoch 198/200\n",
            "653/653 [==============================] - 12s 19ms/step - loss: 1.1643 - accuracy: 0.7764\n",
            "Epoch 199/200\n",
            "653/653 [==============================] - 13s 20ms/step - loss: 1.1760 - accuracy: 0.7734\n",
            "Epoch 200/200\n",
            "653/653 [==============================] - 13s 20ms/step - loss: 1.1654 - accuracy: 0.7752\n"
          ]
        }
      ]
    },
    {
      "cell_type": "code",
      "source": [
        "%matplotlib inline\n",
        "import matplotlib.pyplot as plt\n",
        "acc = history.history['accuracy']\n",
        "loss = history.history['loss']\n",
        "epochs = range(len(acc))\n",
        "plt.plot(epochs, acc, 'b', label='Training accuracy')\n",
        "plt.title('Training accuracy')\n",
        "plt.figure()\n",
        "plt.plot(epochs, loss, 'b', label='Training Loss')\n",
        "plt.title('Training loss')\n",
        "plt.legend()\n",
        "plt.show()"
      ],
      "metadata": {
        "colab": {
          "base_uri": "https://localhost:8080/",
          "height": 545
        },
        "id": "PyWeq0v-BPa-",
        "outputId": "394abe72-57e0-4e1d-bf92-234ac244cb6c"
      },
      "execution_count": null,
      "outputs": [
        {
          "output_type": "display_data",
          "data": {
            "text/plain": [
              "<Figure size 432x288 with 1 Axes>"
            ],
            "image/png": "[encoded data removed]"
          },
          "metadata": {
            "needs_background": "light"
          }
        },
        {
          "output_type": "display_data",
          "data": {
            "text/plain": [
              "<Figure size 432x288 with 1 Axes>"
            ],
            "image/png": "[encoded data removed]"
          },
          "metadata": {
            "needs_background": "light"
          }
        }
      ]
    },
    {
      "cell_type": "markdown",
      "source": [
        "# Generation the data"
      ],
      "metadata": {
        "id": "IeM50RMKRKv3"
      }
    },
    {
      "cell_type": "code",
      "source": [
        "poetry_length = 10\n",
        "def generate_poetry(model,seed_text, n_lines):\n",
        "  poem=[]\n",
        "  for i in range(n_lines):\n",
        "    text = []\n",
        "    for _ in range(poetry_length):\n",
        "      encoded = token.texts_to_sequences([seed_text])\n",
        "      encoded = pad_sequences(encoded, maxlen=seq_length, padding='pre')\n",
        "\n",
        "      y_pred = np.argmax(model.predict(encoded), axis=-1)\n",
        "\n",
        "      predicted_word = \"\"\n",
        "      for word, index in token.word_index.items():\n",
        "        if index == y_pred:\n",
        "          predicted_word = word\n",
        "          break\n",
        "\n",
        "      seed_text = seed_text + ' ' + predicted_word\n",
        "      text.append(predicted_word)\n",
        "\n",
        "    seed_text = text[-1]\n",
        "    text = ' '.join(text)\n",
        "    poem.append(text)\n",
        "  return \" \\n\".join(poem)"
      ],
      "metadata": {
        "id": "3LaHqJXnNWfa"
      },
      "execution_count": null,
      "outputs": []
    },
    {
      "cell_type": "code",
      "source": [
        "seed_text = 'courage'\n",
        "text=generate_poetry(model,seed_text, 5)"
      ],
      "metadata": {
        "colab": {
          "base_uri": "https://localhost:8080/"
        },
        "id": "j4A7IyBuNbsW",
        "outputId": "74843a23-532f-4aa1-a8cd-146206c0f21d"
      },
      "execution_count": null,
      "outputs": [
        {
          "output_type": "stream",
          "name": "stdout",
          "text": [
            "1/1 [==============================] - 0s 24ms/step\n",
            "1/1 [==============================] - 0s 23ms/step\n",
            "1/1 [==============================] - 0s 24ms/step\n",
            "1/1 [==============================] - 0s 23ms/step\n",
            "1/1 [==============================] - 0s 23ms/step\n",
            "1/1 [==============================] - 0s 23ms/step\n",
            "1/1 [==============================] - 0s 24ms/step\n",
            "1/1 [==============================] - 0s 25ms/step\n",
            "1/1 [==============================] - 0s 24ms/step\n",
            "1/1 [==============================] - 0s 27ms/step\n",
            "1/1 [==============================] - 0s 22ms/step\n",
            "1/1 [==============================] - 0s 27ms/step\n",
            "1/1 [==============================] - 0s 33ms/step\n",
            "1/1 [==============================] - 0s 25ms/step\n",
            "1/1 [==============================] - 0s 23ms/step\n",
            "1/1 [==============================] - 0s 25ms/step\n",
            "1/1 [==============================] - 0s 24ms/step\n",
            "1/1 [==============================] - 0s 24ms/step\n",
            "1/1 [==============================] - 0s 22ms/step\n",
            "1/1 [==============================] - 0s 23ms/step\n",
            "1/1 [==============================] - 0s 23ms/step\n",
            "1/1 [==============================] - 0s 23ms/step\n",
            "1/1 [==============================] - 0s 24ms/step\n",
            "1/1 [==============================] - 0s 26ms/step\n",
            "1/1 [==============================] - 0s 25ms/step\n",
            "1/1 [==============================] - 0s 26ms/step\n",
            "1/1 [==============================] - 0s 23ms/step\n",
            "1/1 [==============================] - 0s 24ms/step\n",
            "1/1 [==============================] - 0s 23ms/step\n",
            "1/1 [==============================] - 0s 28ms/step\n",
            "1/1 [==============================] - 0s 25ms/step\n",
            "1/1 [==============================] - 0s 24ms/step\n",
            "1/1 [==============================] - 0s 25ms/step\n",
            "1/1 [==============================] - 0s 24ms/step\n",
            "1/1 [==============================] - 0s 23ms/step\n",
            "1/1 [==============================] - 0s 24ms/step\n",
            "1/1 [==============================] - 0s 24ms/step\n",
            "1/1 [==============================] - 0s 23ms/step\n",
            "1/1 [==============================] - 0s 26ms/step\n",
            "1/1 [==============================] - 0s 24ms/step\n",
            "1/1 [==============================] - 0s 23ms/step\n",
            "1/1 [==============================] - 0s 22ms/step\n",
            "1/1 [==============================] - 0s 22ms/step\n",
            "1/1 [==============================] - 0s 24ms/step\n",
            "1/1 [==============================] - 0s 24ms/step\n",
            "1/1 [==============================] - 0s 22ms/step\n",
            "1/1 [==============================] - 0s 24ms/step\n",
            "1/1 [==============================] - 0s 26ms/step\n",
            "1/1 [==============================] - 0s 23ms/step\n",
            "1/1 [==============================] - 0s 25ms/step\n"
          ]
        }
      ]
    },
    {
      "cell_type": "code",
      "source": [
        "print(text)"
      ],
      "metadata": {
        "colab": {
          "base_uri": "https://localhost:8080/"
        },
        "id": "RWREit_uNaBl",
        "outputId": "5ce72956-7c7f-4fee-eb9a-3e38d3697bc3"
      },
      "execution_count": null,
      "outputs": [
        {
          "output_type": "stream",
          "name": "stdout",
          "text": [
            "whom was he fell in love and you’ll know how \n",
            "could i have the heart to cut off and depart \n",
            "incantations in tone high and bitter for her moon still \n",
            "when savoring fresh wind by the next twelve with through \n",
            "experience of a harrowing thoughts of my uncle over there\n"
          ]
        }
      ]
    },
    {
      "cell_type": "markdown",
      "source": [
        "# Saving the model"
      ],
      "metadata": {
        "id": "YfOpstM3RTgT"
      }
    },
    {
      "cell_type": "code",
      "source": [
        "model.save('thetaleofkieu.h5') "
      ],
      "metadata": {
        "id": "XaiCdiSAPLqg"
      },
      "execution_count": null,
      "outputs": []
    },
    {
      "cell_type": "code",
      "source": [
        "from tensorflow.keras.models import load_model"
      ],
      "metadata": {
        "id": "bVKI8Ca0PPIY"
      },
      "execution_count": null,
      "outputs": []
    },
    {
      "cell_type": "code",
      "source": [
        "thetaleofkieu = Sequential()\n",
        "thetaleofkieu.add(Embedding(vocab_size, 100, input_length=seq_length))\n",
        "thetaleofkieu.add(Bidirectional(LSTM(150, return_sequences = True)))\n",
        "thetaleofkieu.add(Dropout(0.2))\n",
        "thetaleofkieu.add(LSTM(100))\n",
        "thetaleofkieu.add(Dense(vocab_size/2, activation='relu', kernel_regularizer=regularizers.l2(0.01)))\n",
        "thetaleofkieu.add(Dense(vocab_size, activation='softmax'))\n",
        "thetaleofkieu.compile(loss='categorical_crossentropy', optimizer='adam', metrics=['accuracy'])\n",
        "print(thetaleofkieu.summary())"
      ],
      "metadata": {
        "colab": {
          "base_uri": "https://localhost:8080/"
        },
        "id": "m1JhB6lqPSNp",
        "outputId": "37a60c1c-f2b9-4d15-b7fc-b97454558b16"
      },
      "execution_count": null,
      "outputs": [
        {
          "output_type": "stream",
          "name": "stdout",
          "text": [
            "Model: \"sequential_2\"\n",
            "_________________________________________________________________\n",
            " Layer (type)                Output Shape              Param #   \n",
            "=================================================================\n",
            " embedding_2 (Embedding)     (None, 60, 100)           494900    \n",
            "                                                                 \n",
            " bidirectional_2 (Bidirectio  (None, 60, 300)          301200    \n",
            " nal)                                                            \n",
            "                                                                 \n",
            " dropout_2 (Dropout)         (None, 60, 300)           0         \n",
            "                                                                 \n",
            " lstm_5 (LSTM)               (None, 100)               160400    \n",
            "                                                                 \n",
            " dense_4 (Dense)             (None, 2474)              249874    \n",
            "                                                                 \n",
            " dense_5 (Dense)             (None, 4949)              12248775  \n",
            "                                                                 \n",
            "=================================================================\n",
            "Total params: 13,455,149\n",
            "Trainable params: 13,455,149\n",
            "Non-trainable params: 0\n",
            "_________________________________________________________________\n",
            "None\n"
          ]
        }
      ]
    },
    {
      "cell_type": "code",
      "source": [
        "thetaleofkieu.load_weights('thetaleofkieu.h5')"
      ],
      "metadata": {
        "id": "AhYtuipOPznZ"
      },
      "execution_count": null,
      "outputs": []
    },
    {
      "cell_type": "code",
      "source": [
        "seed_text = 'courage'\n",
        "text=generate_poetry(thetaleofkieu,seed_text, 5)"
      ],
      "metadata": {
        "colab": {
          "base_uri": "https://localhost:8080/"
        },
        "id": "OwrVwcueQBBb",
        "outputId": "e8b706fa-8091-4420-d966-17146aacfe35"
      },
      "execution_count": null,
      "outputs": [
        {
          "output_type": "stream",
          "name": "stdout",
          "text": [
            "1/1 [==============================] - 1s 1s/step\n",
            "1/1 [==============================] - 0s 22ms/step\n",
            "1/1 [==============================] - 0s 23ms/step\n",
            "1/1 [==============================] - 0s 27ms/step\n",
            "1/1 [==============================] - 0s 23ms/step\n",
            "1/1 [==============================] - 0s 30ms/step\n",
            "1/1 [==============================] - 0s 22ms/step\n",
            "1/1 [==============================] - 0s 21ms/step\n",
            "1/1 [==============================] - 0s 23ms/step\n",
            "1/1 [==============================] - 0s 27ms/step\n",
            "1/1 [==============================] - 0s 23ms/step\n",
            "1/1 [==============================] - 0s 23ms/step\n",
            "1/1 [==============================] - 0s 22ms/step\n",
            "1/1 [==============================] - 0s 23ms/step\n",
            "1/1 [==============================] - 0s 23ms/step\n",
            "1/1 [==============================] - 0s 23ms/step\n",
            "1/1 [==============================] - 0s 21ms/step\n",
            "1/1 [==============================] - 0s 25ms/step\n",
            "1/1 [==============================] - 0s 25ms/step\n",
            "1/1 [==============================] - 0s 22ms/step\n",
            "1/1 [==============================] - 0s 22ms/step\n",
            "1/1 [==============================] - 0s 22ms/step\n",
            "1/1 [==============================] - 0s 24ms/step\n",
            "1/1 [==============================] - 0s 28ms/step\n",
            "1/1 [==============================] - 0s 23ms/step\n",
            "1/1 [==============================] - 0s 22ms/step\n",
            "1/1 [==============================] - 0s 26ms/step\n",
            "1/1 [==============================] - 0s 23ms/step\n",
            "1/1 [==============================] - 0s 23ms/step\n",
            "1/1 [==============================] - 0s 23ms/step\n",
            "1/1 [==============================] - 0s 23ms/step\n",
            "1/1 [==============================] - 0s 23ms/step\n",
            "1/1 [==============================] - 0s 22ms/step\n",
            "1/1 [==============================] - 0s 25ms/step\n",
            "1/1 [==============================] - 0s 26ms/step\n",
            "1/1 [==============================] - 0s 25ms/step\n",
            "1/1 [==============================] - 0s 22ms/step\n",
            "1/1 [==============================] - 0s 25ms/step\n",
            "1/1 [==============================] - 0s 24ms/step\n",
            "1/1 [==============================] - 0s 22ms/step\n",
            "1/1 [==============================] - 0s 29ms/step\n",
            "1/1 [==============================] - 0s 23ms/step\n",
            "1/1 [==============================] - 0s 28ms/step\n",
            "1/1 [==============================] - 0s 24ms/step\n",
            "1/1 [==============================] - 0s 28ms/step\n",
            "1/1 [==============================] - 0s 22ms/step\n",
            "1/1 [==============================] - 0s 26ms/step\n",
            "1/1 [==============================] - 0s 24ms/step\n",
            "1/1 [==============================] - 0s 26ms/step\n",
            "1/1 [==============================] - 0s 26ms/step\n"
          ]
        }
      ]
    },
    {
      "cell_type": "code",
      "source": [
        "print(text)"
      ],
      "metadata": {
        "colab": {
          "base_uri": "https://localhost:8080/"
        },
        "id": "pLu6y7NzQYgN",
        "outputId": "4614b594-d845-498b-ac42-cbe39362a704"
      },
      "execution_count": null,
      "outputs": [
        {
          "output_type": "stream",
          "name": "stdout",
          "text": [
            "whom was he fell in love and you’ll know how \n",
            "could i have the heart to cut off and depart \n",
            "incantations in tone high and bitter for her moon still \n",
            "when savoring fresh wind by the next twelve with through \n",
            "experience of a harrowing thoughts of my uncle over there\n"
          ]
        }
      ]
    },
    {
      "cell_type": "code",
      "source": [],
      "metadata": {
        "id": "v2YzubB3QjpB"
      },
      "execution_count": null,
      "outputs": []
    }
  ]
}